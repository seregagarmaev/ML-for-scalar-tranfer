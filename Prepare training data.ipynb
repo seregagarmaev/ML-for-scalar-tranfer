{
 "cells": [
  {
   "cell_type": "markdown",
   "id": "85f874dd-ab2c-425c-9b46-ebea08b82bcf",
   "metadata": {},
   "source": [
    "# Description\n",
    "\n",
    "In this notebook we prepare the training data."
   ]
  },
  {
   "cell_type": "markdown",
   "id": "4f9634dd-9b7b-4383-84d3-ea7dd6e1c1b8",
   "metadata": {},
   "source": [
    "# Import"
   ]
  },
  {
   "cell_type": "code",
   "execution_count": 1,
   "id": "7e029274-1da7-4c05-8e6f-42259350076b",
   "metadata": {},
   "outputs": [],
   "source": [
    "import pandas as pd\n",
    "from scipy.interpolate import interp1d\n",
    "from utils import *"
   ]
  },
  {
   "cell_type": "code",
   "execution_count": 2,
   "id": "69304611-606a-4ece-8d70-7077043e84fa",
   "metadata": {},
   "outputs": [],
   "source": [
    "X_train, X_test = [], []\n",
    "TB_train, TB_test = [], []\n",
    "uc_train, uc_test = [], []\n",
    "gradc_train, gradc_test = [], []\n",
    "nut_train, nut_test = [], []"
   ]
  },
  {
   "cell_type": "markdown",
   "id": "80cc35c7-0df1-4a8c-940c-8aebb49f023b",
   "metadata": {},
   "source": [
    "# Re_tau = 180"
   ]
  },
  {
   "cell_type": "code",
   "execution_count": 3,
   "id": "623a7ccd-f7a7-4e7a-9cf4-396005255f0b",
   "metadata": {},
   "outputs": [],
   "source": [
    "nu = 0.00035\n",
    "rans_path = 'data/RANS/Re_tau_180_Pr_07/'\n",
    "dns_path = 'data/DNS/Re_tau_180/'\n",
    "step = 10100\n",
    "\n",
    "c_rans = read_field('C', step, rans_path)\n",
    "c1 = c_rans[:, 0] == 0.025\n",
    "c2 = c_rans[:, 2] == 0.025\n",
    "c3 = c_rans[:, 1] <= 1\n",
    "\n",
    "grad_U = read_field('grad(U)', step, rans_path)[c1 & c2 & c3, :]\n",
    "grad_T = read_field('grad(T)', step, rans_path)[c1 & c2 & c3, :]\n",
    "omega = read_field('omega', step, rans_path)[c1 & c2 & c3]\n",
    "k = read_field('k', step, rans_path)[c1 & c2 & c3]\n",
    "nut = read_field('nut', step, rans_path)[c1 & c2 & c3]\n",
    "Cy = read_field('Cy', step, rans_path)[c1 & c2 & c3]\n",
    "d = Cy\n",
    "Re_d = np.sqrt(k) * d / nu\n",
    "\n",
    "\n",
    "S, R = generate_S_R(grad_U, omega)\n",
    "TB = calc_tensor_basis(S, R)\n",
    "invariants = calc_invariants(S, R, grad_T, Re_d, nut, nu)\n",
    "\n",
    "# # prepare interpolated uc\n",
    "dns = pd.read_csv(f'{dns_path}processed_data.csv')\n",
    "ut_int = interp1d(dns['y'], dns['ut'], kind='cubic') #, fill_value='extrapolate')\n",
    "vt_int = interp1d(dns['y'], dns['vt'], kind='cubic') #, fill_value='extrapolate')\n",
    "\n",
    "uc = np.zeros((Cy.shape[0], 3))\n",
    "uc[:, 0] = ut_int(Cy)\n",
    "uc[:, 1] = vt_int(Cy)\n",
    "\n",
    "X_train.append(invariants)\n",
    "TB_train.append(TB)\n",
    "uc_train.append(uc)\n",
    "gradc_train.append(grad_T)\n",
    "nut_train.append(nut)"
   ]
  },
  {
   "cell_type": "markdown",
   "id": "024f3789-249b-4f9e-ac72-be800b63203d",
   "metadata": {},
   "source": [
    "# Re_tau = 395"
   ]
  },
  {
   "cell_type": "code",
   "execution_count": 4,
   "id": "366d313b-e2d0-4a41-93f6-08bf44616d91",
   "metadata": {},
   "outputs": [],
   "source": [
    "nu = 0.000145\n",
    "rans_path = 'data/RANS/Re_tau_395_Pr_071/'\n",
    "dns_path = 'data/DNS/Re_tau_395/'\n",
    "step = 10100\n",
    "\n",
    "c_rans = read_field('C', step, rans_path)\n",
    "c1 = c_rans[:, 0] == 0.025\n",
    "c2 = c_rans[:, 2] == 0.025\n",
    "c3 = c_rans[:, 1] <= 1\n",
    "\n",
    "grad_U = read_field('grad(U)', step, rans_path)[c1 & c2 & c3, :]\n",
    "grad_T = read_field('grad(T)', step, rans_path)[c1 & c2 & c3, :]\n",
    "omega = read_field('omega', step, rans_path)[c1 & c2 & c3]\n",
    "k = read_field('k', step, rans_path)[c1 & c2 & c3]\n",
    "nut = read_field('nut', step, rans_path)[c1 & c2 & c3]\n",
    "Cy = read_field('Cy', step, rans_path)[c1 & c2 & c3]\n",
    "d = Cy\n",
    "Re_d = np.sqrt(k) * d / nu\n",
    "\n",
    "\n",
    "S, R = generate_S_R(grad_U, omega)\n",
    "TB = calc_tensor_basis(S, R)\n",
    "invariants = calc_invariants(S, R, grad_T, Re_d, nut, nu)\n",
    "\n",
    "# prepare interpolated uc\n",
    "dns = pd.read_csv(f'{dns_path}processed_data.csv')\n",
    "ut_int = interp1d(dns['y'], dns['ut'], kind='cubic', fill_value='extrapolate')\n",
    "vt_int = interp1d(dns['y'], dns['vt'], kind='cubic', fill_value='extrapolate')\n",
    "\n",
    "uc = np.zeros((Cy.shape[0], 3))\n",
    "uc[:, 0] = ut_int(Cy)\n",
    "uc[:, 1] = vt_int(Cy)\n",
    "\n",
    "X_train.append(invariants)\n",
    "TB_train.append(TB)\n",
    "uc_train.append(uc)\n",
    "gradc_train.append(grad_T)\n",
    "nut_train.append(nut)"
   ]
  },
  {
   "cell_type": "markdown",
   "id": "e5feaeb8-00ba-42d7-b127-8d2310c77674",
   "metadata": {},
   "source": [
    "# Re_tau = 640"
   ]
  },
  {
   "cell_type": "code",
   "execution_count": 5,
   "id": "e8ab4bf3-cd85-4338-8591-efe6a812dbc9",
   "metadata": {},
   "outputs": [],
   "source": [
    "nu = 0.000085\n",
    "rans_path = 'data/RANS/Re_tau_640_Pr_071/'\n",
    "dns_path = 'data/DNS/Re_tau_640/'\n",
    "step = 10100\n",
    "\n",
    "c_rans = read_field('C', step, rans_path)\n",
    "c1 = c_rans[:, 0] == 0.025\n",
    "c2 = c_rans[:, 2] == 0.025\n",
    "c3 = c_rans[:, 1] <= 1\n",
    "\n",
    "grad_U = read_field('grad(U)', step, rans_path)[c1 & c2 & c3, :]\n",
    "grad_T = read_field('grad(T)', step, rans_path)[c1 & c2 & c3, :]\n",
    "omega = read_field('omega', step, rans_path)[c1 & c2 & c3]\n",
    "k = read_field('k', step, rans_path)[c1 & c2 & c3]\n",
    "nut = read_field('nut', step, rans_path)[c1 & c2 & c3]\n",
    "Cy = read_field('Cy', step, rans_path)[c1 & c2 & c3]\n",
    "d = Cy\n",
    "Re_d = np.sqrt(k) * d / nu\n",
    "\n",
    "\n",
    "S, R = generate_S_R(grad_U, omega)\n",
    "TB = calc_tensor_basis(S, R)\n",
    "invariants = calc_invariants(S, R, grad_T, Re_d, nut, nu)\n",
    "\n",
    "# prepare interpolated uc\n",
    "dns = pd.read_csv(f'{dns_path}processed_data.csv')\n",
    "ut_int = interp1d(dns['y'], dns['ut'], kind='cubic', fill_value='extrapolate')\n",
    "vt_int = interp1d(dns['y'], dns['vt'], kind='cubic', fill_value='extrapolate')\n",
    "\n",
    "uc = np.zeros((Cy.shape[0], 3))\n",
    "uc[:, 0] = ut_int(Cy)\n",
    "uc[:, 1] = vt_int(Cy)\n",
    "\n",
    "X_test.append(invariants)\n",
    "TB_test.append(TB)\n",
    "uc_test.append(uc)\n",
    "gradc_test.append(grad_T)\n",
    "nut_test.append(nut)"
   ]
  },
  {
   "cell_type": "markdown",
   "id": "dc3bcb00-8160-4d6e-8f12-18e0bd1a516e",
   "metadata": {},
   "source": [
    "# Re_tau = 1200"
   ]
  },
  {
   "cell_type": "code",
   "execution_count": 6,
   "id": "43aea143-d1d1-413e-a7d1-d3c83246f510",
   "metadata": {},
   "outputs": [],
   "source": [
    "nu = 0.00004\n",
    "rans_path = 'data/RANS/Re_tau_1200_Pr_071/'\n",
    "dns_path = 'data/DNS/Re_tau_1200/'\n",
    "step = 10100\n",
    "\n",
    "c_rans = read_field('C', step, rans_path)\n",
    "c1 = c_rans[:, 0] == 0.025\n",
    "c2 = c_rans[:, 2] == 0.025\n",
    "c3 = c_rans[:, 1] <= 1\n",
    "\n",
    "grad_U = read_field('grad(U)', step, rans_path)[c1 & c2 & c3, :]\n",
    "grad_T = read_field('grad(T)', step, rans_path)[c1 & c2 & c3, :]\n",
    "omega = read_field('omega', step, rans_path)[c1 & c2 & c3]\n",
    "k = read_field('k', step, rans_path)[c1 & c2 & c3]\n",
    "nut = read_field('nut', step, rans_path)[c1 & c2 & c3]\n",
    "Cy = read_field('Cy', step, rans_path)[c1 & c2 & c3]\n",
    "d = Cy\n",
    "Re_d = np.sqrt(k) * d / nu\n",
    "\n",
    "\n",
    "S, R = generate_S_R(grad_U, omega)\n",
    "TB = calc_tensor_basis(S, R)\n",
    "invariants = calc_invariants(S, R, grad_T, Re_d, nut, nu)\n",
    "\n",
    "# prepare interpolated uc\n",
    "dns = pd.read_csv(f'{dns_path}processed_data.csv')\n",
    "ut_int = interp1d(dns['y'], dns['ut'], kind='cubic', fill_value='extrapolate')\n",
    "vt_int = interp1d(dns['y'], dns['vt'], kind='cubic', fill_value='extrapolate')\n",
    "\n",
    "uc = np.zeros((Cy.shape[0], 3))\n",
    "uc[:, 0] = ut_int(Cy)\n",
    "uc[:, 1] = vt_int(Cy)\n",
    "\n",
    "X_train.append(invariants)\n",
    "TB_train.append(TB)\n",
    "uc_train.append(uc)\n",
    "gradc_train.append(grad_T)\n",
    "nut_train.append(nut)"
   ]
  },
  {
   "cell_type": "markdown",
   "id": "de29f5d4-a755-4934-ba3f-4fa514a871ca",
   "metadata": {},
   "source": [
    "# Concatenate and save data"
   ]
  },
  {
   "cell_type": "code",
   "execution_count": 7,
   "id": "93a22c95-f833-45b1-aa61-1358fcfbec2c",
   "metadata": {},
   "outputs": [],
   "source": [
    "X_train, X_test = np.concatenate(X_train), np.concatenate(X_test)\n",
    "TB_train, TB_test = np.concatenate(TB_train), np.concatenate(TB_test)\n",
    "uc_train, uc_test = np.concatenate(uc_train), np.concatenate(uc_test)\n",
    "gradc_train, gradc_test = np.concatenate(gradc_train), np.concatenate(gradc_test)\n",
    "nut_train, nut_test = np.concatenate(nut_train), np.concatenate(nut_test)"
   ]
  },
  {
   "cell_type": "code",
   "execution_count": 8,
   "id": "c5e6ac7d-61ef-46ce-be1e-7d556d045624",
   "metadata": {},
   "outputs": [],
   "source": [
    "np.save(f'data/final_data/X_test.npy', X_test)\n",
    "np.save(f'data/final_data/X_train.npy', X_train)\n",
    "np.save(f'data/final_data/TB_test.npy', TB_test)\n",
    "np.save(f'data/final_data/TB_train.npy', TB_train)\n",
    "np.save(f'data/final_data/uc_test.npy', uc_test)\n",
    "np.save(f'data/final_data/uc_train.npy', uc_train)\n",
    "np.save(f'data/final_data/gradc_test.npy', gradc_test)\n",
    "np.save(f'data/final_data/gradc_train.npy', gradc_train)\n",
    "np.save(f'data/final_data/nut_test.npy', nut_test)\n",
    "np.save(f'data/final_data/nut_train.npy', nut_train)"
   ]
  },
  {
   "cell_type": "code",
   "execution_count": null,
   "id": "e255fcbc-0546-4ff1-840b-32e5a6a2c8ad",
   "metadata": {},
   "outputs": [],
   "source": []
  }
 ],
 "metadata": {
  "kernelspec": {
   "display_name": "Python 3 (ipykernel)",
   "language": "python",
   "name": "python3"
  },
  "language_info": {
   "codemirror_mode": {
    "name": "ipython",
    "version": 3
   },
   "file_extension": ".py",
   "mimetype": "text/x-python",
   "name": "python",
   "nbconvert_exporter": "python",
   "pygments_lexer": "ipython3",
   "version": "3.8.10"
  }
 },
 "nbformat": 4,
 "nbformat_minor": 5
}
